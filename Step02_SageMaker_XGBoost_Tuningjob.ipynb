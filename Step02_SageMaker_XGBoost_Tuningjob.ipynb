{
 "cells": [
  {
   "cell_type": "markdown",
   "metadata": {},
   "source": [
    "## 使用SageMaker+XGBoost，将时间序列转换为监督学习，完成预测性维护的实践\n",
    "https://github.com/liangyimingcom/Use-SageMaker_XGBoost-convert-Time-Series-into-Supervised-Learning-for-predictive-maintenance\n",
    "\n",
    "**关键字**：SageMaker；XGBoost；Python；滑窗；滑动窗口方法；时间序列预测转化为监督学习问题；将多元时间序列数据转换为监督学习问题；如何用Python将时间序列问题转化为有监督学习问题；时间序列预测的机器学习模型；Machine Learning；ML；\n",
    "\n",
    "# SageMaker Hyperparameter Tuning 超参数优化\n",
    "\n",
    "我们已经准备好数据集，就可以训练模型了。\n",
    "在执行此操作之前，要注意的一件事是存在称为“超参数”的算法设置，这些设置可能会严重影响训练后的模型的准确度。\n",
    "例如，XGBoost算法具有几十个超参数，我们需要为这些超参数选择正确的值，以便获得所需的模型训练结果。\n",
    "由于超参数设置复杂并导致了准确度的变化，因此不可能直接得到最佳超参数设置，SageMaker的超参数优化（Hyperparameter_Tuning），以自动的方法搜索到最佳超参数设置。\n",
    "\n",
    "我们将使用SageMaker Hyperparameter Tuning来有效地自动执行搜索最佳参数的过程。具体来说，对于超参数，我们可以指定每个超参数指定一个范围或可能值的列表。 SageMaker超参数优化将自动启动具有不同超参数设置的多个训练作业，基于预定义的“结果指标evaluation metric”评估那些训练作业的结果，并根据先前的结果为以后的尝试选择超参数设置。对于每个超参数调整作业，我们将给它一个预算（最大训练作业数），并且在执行完许多训练作业后该预算将完成。\n",
    "\n",
    "---\n",
    "### 本章节内容Contents\n",
    "\n",
    "1. [算法选择构建模型（XGBoost）]\n",
    "2. [模型训练]\n",
    "3. [超参数优化(反复调参试错)]\n",
    "4. [评估Evaluation]\n",
    "5. [部署模型线上推理]\n",
    "\n",
    "---\n"
   ]
  },
  {
   "cell_type": "code",
   "execution_count": 45,
   "metadata": {},
   "outputs": [
    {
     "name": "stdout",
     "output_type": "stream",
     "text": [
      "sagemaker-cn-northwest-1-337575217701\n",
      "xgb-10000871-part_ac.csv-TC58-SW010-WC006-20210405135629\n",
      "TC58-SW010-WC006-20210405151047\n"
     ]
    }
   ],
   "source": [
    "import sagemaker\n",
    "import boto3\n",
    "from sagemaker.tuner import IntegerParameter, CategoricalParameter, ContinuousParameter, HyperparameterTuner\n",
    "\n",
    "import numpy as np                                # For matrix operations and numerical processing\n",
    "import pandas as pd                               # For munging tabular data\n",
    "import os \n",
    "from datetime import datetime\n",
    "from time import gmtime, strftime, sleep\n",
    "\n",
    "region = boto3.Session().region_name    \n",
    "smclient = boto3.Session().client('sagemaker')\n",
    "\n",
    "role = sagemaker.get_execution_role()\n",
    "\n",
    "bucket = sagemaker.Session().default_bucket()\n",
    "\n",
    "# prefix为Step1中，数据预处理后的S3存储桶名称，用于导入训练数据集\n",
    "##prefix = 'xgb-10000871.csv-TC58-SW100-WC10-20201202080714'\n",
    "##prefix = 'xgb-10000871.csv-TC58-SW100-WC20-20201202051756'\n",
    "#prefix = 'xgb-10000871.csv-TC58-SW100-WC40-20201202032834'\n",
    "##prefix = 'xgb-10000871.csv-TC58-SW100-WC60-20201202011847'\n",
    "##prefix = 'xgb-10000871.csv-TC58-SW100-WC80-20201202023456'\n",
    "##prefix = 'xgb-10000871.csv-TC58-SW100-WC99-20201202064356'\n",
    "prefix = 'xgb-10000871-part_ac.csv-TC58-SW010-WC006-20210405135629' ##for demo \n",
    "\n",
    "#获取一个有意义的prefix_tuningjobname，\n",
    "prefix_tuningjobname = prefix[-31:-15]+'-'+strftime(\"%Y%m%d%H%M%S\", gmtime())\n",
    "#prefix_tuningjobname = prefix[-30:-15]#+'-'+strftime(\"%Y%m%d%H%M%S\", gmtime())\n",
    "\n",
    "#for teseting\n",
    "print(bucket) #S3桶名称\n",
    "print(prefix) #S3桶名称\n",
    "print(prefix_tuningjobname) #有意义的直观的训练任务名称\n"
   ]
  },
  {
   "cell_type": "code",
   "execution_count": 2,
   "metadata": {},
   "outputs": [
    {
     "name": "stderr",
     "output_type": "stream",
     "text": [
      "'get_image_uri' method will be deprecated in favor of 'ImageURIProvider' class in SageMaker Python SDK v2.\n",
      "WARNING:root:There is a more up to date SageMaker XGBoost image. To use the newer image, please set 'repo_version'='1.0-1'. For example:\n",
      "\tget_image_uri(region, 'xgboost', '1.0-1').\n",
      "WARNING:root:Parameter image_name will be renamed to image_uri in SageMaker Python SDK v2.\n"
     ]
    }
   ],
   "source": [
    "from sagemaker.amazon.amazon_estimator import get_image_uri\n",
    "\n",
    "sess = sagemaker.Session()\n",
    "\n",
    "container = get_image_uri(region, 'xgboost', repo_version='1')\n",
    "#container = get_image_uri(boto3.Session().region_name, 'xgboost')\n",
    "#display(container)\n",
    "\n",
    "xgb = sagemaker.estimator.Estimator(container,\n",
    "                                    role, \n",
    "                                    train_instance_count=1, \n",
    "                                    train_instance_type='ml.m5.xlarge',\n",
    "                                    output_path='s3://{}/{}/output'.format(bucket, prefix),\n",
    "                                    sagemaker_session=sess)\n",
    "\n",
    "xgb.set_hyperparameters(eval_metric='mae',\n",
    "                        objective='binary:logistic')"
   ]
  },
  {
   "cell_type": "markdown",
   "metadata": {},
   "source": [
    "### XGBoost使用四个超参数：\n",
    "* * eta *：在更新中使用步长缩小以防止过度拟合。 在每个增强步骤之后，您都可以直接获得新功能的权重。 eta参数实际上缩小了特征权重，以使提升过程更加保守。\n",
    "* * alpha *：关于权重的L1正则化项。 增加此值会使模型更加保守。\n",
    "* * min_child_weight *：子级中实例重量的最小总和（hessian）。 如果树分区步骤导致叶节点的实例权重之和小于min_child_weight，则构建过程将放弃进一步的分区。 在线性回归模型中，这仅对应于每个节点所需的最少实例数。 算法越大，则算法越保守。\n",
    "* * max_depth *：一棵树的最大深度。 增加此值会使模型更复杂，并且可能会过拟合。"
   ]
  },
  {
   "cell_type": "code",
   "execution_count": 3,
   "metadata": {},
   "outputs": [],
   "source": [
    "hyperparameter_ranges = {'num_round': IntegerParameter(100, 1000)}"
   ]
  },
  {
   "cell_type": "markdown",
   "metadata": {},
   "source": [
    "### 评估模型的第一步是要先确立评估的标准——evaluation metric，在这里我们使用XGBoost解决回归问题，选择mae来作为评估标准\n",
    "我们将指定我们想要调整的客观指标及其定义，其中包括从训练任务的CloudWatch日志中提取该指标所需的正则表达式（Regex）。 由于我们在这里使用内置的XGBoost算法，因此它发出两个预定义的指标：* validation：auc *和* train：auc *，我们选择监视* validation：auc *，如下所示。 在这种情况下，我们只需要指定指标名称即可，而无需提供正则表达式。 如果您带上自己的算法，则算法本身会发出指标。 在这种情况下，您需要在此处添加MetricDefinition对象，以通过正则表达式定义那些指标的格式，以便SageMaker知道如何从CloudWatch日志中提取那些指标。"
   ]
  },
  {
   "cell_type": "code",
   "execution_count": 4,
   "metadata": {},
   "outputs": [],
   "source": [
    "objective_metric_name = 'validation:mae'"
   ]
  },
  {
   "cell_type": "markdown",
   "metadata": {},
   "source": [
    "\n",
    "### 创建一个“ HyperparameterTuner”对象，并将其传递给该对象：\n",
    "- The XGBoost estimator we created above\n",
    "- Our hyperparameter ranges\n",
    "- Objective metric name and definition\n",
    "- Tuning resource configurations such as Number of training jobs to run in total and how many training jobs can be run in parallel.\n",
    "\n"
   ]
  },
  {
   "cell_type": "code",
   "execution_count": 7,
   "metadata": {},
   "outputs": [],
   "source": [
    "tuner = HyperparameterTuner(xgb,\n",
    "                            objective_metric_name,                           \n",
    "                            hyperparameter_ranges,\n",
    "                            objective_type='Minimize',\n",
    "                            base_tuning_job_name=prefix_tuningjobname,\n",
    "                            max_jobs=9,\n",
    "                            max_parallel_jobs=3)"
   ]
  },
  {
   "cell_type": "markdown",
   "metadata": {},
   "source": [
    "### 运行超参数调优 Hyperparameter_Tuning 任务\n",
    "现在，我们可以通过调用* fit（）*函数来启动超参数调整作业。 创建超参数调整作业后，我们可以转到SageMaker控制台以跟踪超参数调整作业的进度，直到完成为止。"
   ]
  },
  {
   "cell_type": "code",
   "execution_count": 8,
   "metadata": {},
   "outputs": [],
   "source": [
    "### for solved issue: <AttributeError: module 'sagemaker' has no attribute 's3_input'> only working on sagemaker=  1.68.0 !!!\n",
    "#!pip list \n",
    "#!pip install sagemaker==1.68.0    "
   ]
  },
  {
   "cell_type": "code",
   "execution_count": 9,
   "metadata": {},
   "outputs": [
    {
     "name": "stderr",
     "output_type": "stream",
     "text": [
      "WARNING:sagemaker:'s3_input' class will be renamed to 'TrainingInput' in SageMaker Python SDK v2.\n",
      "WARNING:sagemaker:'s3_input' class will be renamed to 'TrainingInput' in SageMaker Python SDK v2.\n"
     ]
    }
   ],
   "source": [
    "s3_input_train = sagemaker.s3_input(s3_data='s3://{}/{}/train'.format(bucket, prefix), content_type='csv')\n",
    "s3_input_validation = sagemaker.s3_input(s3_data='s3://{}/{}/validation/'.format(bucket, prefix), content_type='csv')\n",
    "\n",
    "tuner.fit({'train': s3_input_train, 'validation': s3_input_validation}, include_cls_metadata=False)"
   ]
  },
  {
   "cell_type": "markdown",
   "metadata": {},
   "source": [
    "### 让我们对超参数调整作业状态进行 反复 检查，以确保其成功完成。"
   ]
  },
  {
   "cell_type": "code",
   "execution_count": 33,
   "metadata": {},
   "outputs": [],
   "source": [
    "tuningjobname = tuner.latest_tuning_job.job_name\n",
    "#print(tuningjobname) #for testing\n",
    "\n",
    "boto3.client('sagemaker').describe_hyper_parameter_tuning_job(\n",
    "    HyperParameterTuningJobName=tuner.latest_tuning_job.job_name)['HyperParameterTuningJobStatus']"
   ]
  },
  {
   "cell_type": "markdown",
   "metadata": {},
   "source": [
    "### 分析超参数调整作业的结果\n",
    "一旦完成了调优作业，便可以分析结果以了解每个超参数如何影响模型的质量。"
   ]
  },
  {
   "cell_type": "code",
   "execution_count": 25,
   "metadata": {
    "tags": [
     "parameters"
    ]
   },
   "outputs": [],
   "source": [
    "import boto3\n",
    "import sagemaker\n",
    "import os\n",
    "\n",
    "region = boto3.Session().region_name\n",
    "sage_client = boto3.Session().client('sagemaker')\n",
    "\n",
    "## You must have already run a hyperparameter tuning job to analyze it here.\n",
    "## The Hyperparameter tuning jobs you have run are listed in the Training section on your SageMaker dashboard.\n",
    "## Copy the name of a completed job you want to analyze from that list.\n",
    "## For example: tuning_job_name = 'mxnet-training-201007-0054'.\n",
    "#tuning_job_name = 'YOUR-HYPERPARAMETER-TUNING-JOB-NAME'\n",
    "tuning_job_name = tuningjobname"
   ]
  },
  {
   "cell_type": "markdown",
   "metadata": {},
   "source": [
    "### 跟踪超参数调整作业进度\n",
    "启动调优作业后，可以通过调用describe_tuning_job API来查看其进度。 describe-tuning-job的输出是一个JSON对象，其中包含有关调整作业的当前状态的信息。 您可以调用list_training_jobs_for_tuning_job来查看调优作业启动的培训作业的详细列表。"
   ]
  },
  {
   "cell_type": "code",
   "execution_count": 34,
   "metadata": {
    "scrolled": true
   },
   "outputs": [
    {
     "name": "stdout",
     "output_type": "stream",
     "text": [
      "9 training jobs have completed\n"
     ]
    }
   ],
   "source": [
    "# run this cell to check current status of hyperparameter tuning job\n",
    "tuning_job_result = sage_client.describe_hyper_parameter_tuning_job(HyperParameterTuningJobName=tuning_job_name)\n",
    "\n",
    "status = tuning_job_result['HyperParameterTuningJobStatus']\n",
    "if status != 'Completed':\n",
    "    print('Reminder: the tuning job has not been completed.')\n",
    "    \n",
    "job_count = tuning_job_result['TrainingJobStatusCounters']['Completed']\n",
    "print(\"%d training jobs have completed\" % job_count)\n",
    "    \n",
    "is_minimize = (tuning_job_result['HyperParameterTuningJobConfig']['HyperParameterTuningJobObjective']['Type'] != 'Maximize')\n",
    "objective_name = tuning_job_result['HyperParameterTuningJobConfig']['HyperParameterTuningJobObjective']['MetricName']"
   ]
  },
  {
   "cell_type": "code",
   "execution_count": 35,
   "metadata": {},
   "outputs": [
    {
     "name": "stdout",
     "output_type": "stream",
     "text": [
      "Best model found so far:\n",
      "{'CreationTime': datetime.datetime(2021, 4, 5, 14, 47, 30, tzinfo=tzlocal()),\n",
      " 'FinalHyperParameterTuningJobObjectiveMetric': {'MetricName': 'validation:mae',\n",
      "                                                 'Value': 0.13454200327396393},\n",
      " 'ObjectiveStatus': 'Succeeded',\n",
      " 'TrainingEndTime': datetime.datetime(2021, 4, 5, 14, 50, 45, tzinfo=tzlocal()),\n",
      " 'TrainingJobArn': 'arn:aws-cn:sagemaker:cn-northwest-1:337575217701:training-job/tc58-sw010-wc006-210405-1444-005-f9925ce7',\n",
      " 'TrainingJobName': 'TC58-SW010-WC006-210405-1444-005-f9925ce7',\n",
      " 'TrainingJobStatus': 'Completed',\n",
      " 'TrainingStartTime': datetime.datetime(2021, 4, 5, 14, 49, 32, tzinfo=tzlocal()),\n",
      " 'TunedHyperParameters': {'num_round': '517'}}\n"
     ]
    }
   ],
   "source": [
    "from pprint import pprint\n",
    "if tuning_job_result.get('BestTrainingJob',None):\n",
    "    print(\"Best model found so far:\")\n",
    "    pprint(tuning_job_result['BestTrainingJob'])\n",
    "else:\n",
    "    print(\"No training jobs have reported results yet.\")"
   ]
  },
  {
   "cell_type": "markdown",
   "metadata": {},
   "source": [
    "### 将所有结果提取为DataFrame\n",
    "我们可以列出所有培训工作的超参数和客观指标，并以最佳客观指标来选择培训工作。"
   ]
  },
  {
   "cell_type": "code",
   "execution_count": 36,
   "metadata": {},
   "outputs": [
    {
     "name": "stdout",
     "output_type": "stream",
     "text": [
      "Number of training jobs with valid objective: 9\n",
      "{'lowest': 0.13454200327396393, 'highest': 0.13991299271583557}\n"
     ]
    },
    {
     "name": "stderr",
     "output_type": "stream",
     "text": [
      "/opt/conda/lib/python3.7/site-packages/ipykernel_launcher.py:13: FutureWarning: Passing a negative integer is deprecated in version 1.0 and will not be supported in future version. Instead, use None to not limit the column width.\n",
      "  del sys.path[0]\n"
     ]
    },
    {
     "data": {
      "text/html": [
       "<div>\n",
       "<style scoped>\n",
       "    .dataframe tbody tr th:only-of-type {\n",
       "        vertical-align: middle;\n",
       "    }\n",
       "\n",
       "    .dataframe tbody tr th {\n",
       "        vertical-align: top;\n",
       "    }\n",
       "\n",
       "    .dataframe thead th {\n",
       "        text-align: right;\n",
       "    }\n",
       "</style>\n",
       "<table border=\"1\" class=\"dataframe\">\n",
       "  <thead>\n",
       "    <tr style=\"text-align: right;\">\n",
       "      <th></th>\n",
       "      <th>num_round</th>\n",
       "      <th>TrainingJobName</th>\n",
       "      <th>TrainingJobStatus</th>\n",
       "      <th>FinalObjectiveValue</th>\n",
       "      <th>TrainingStartTime</th>\n",
       "      <th>TrainingEndTime</th>\n",
       "      <th>TrainingElapsedTimeSeconds</th>\n",
       "    </tr>\n",
       "  </thead>\n",
       "  <tbody>\n",
       "    <tr>\n",
       "      <th>4</th>\n",
       "      <td>517.0</td>\n",
       "      <td>TC58-SW010-WC006-210405-1444-005-f9925ce7</td>\n",
       "      <td>Completed</td>\n",
       "      <td>0.134542</td>\n",
       "      <td>2021-04-05 14:49:32+00:00</td>\n",
       "      <td>2021-04-05 14:50:45+00:00</td>\n",
       "      <td>73.0</td>\n",
       "    </tr>\n",
       "    <tr>\n",
       "      <th>6</th>\n",
       "      <td>522.0</td>\n",
       "      <td>TC58-SW010-WC006-210405-1444-003-ee48a7e9</td>\n",
       "      <td>Completed</td>\n",
       "      <td>0.134943</td>\n",
       "      <td>2021-04-05 14:46:28+00:00</td>\n",
       "      <td>2021-04-05 14:47:32+00:00</td>\n",
       "      <td>64.0</td>\n",
       "    </tr>\n",
       "    <tr>\n",
       "      <th>3</th>\n",
       "      <td>354.0</td>\n",
       "      <td>TC58-SW010-WC006-210405-1444-006-698d3951</td>\n",
       "      <td>Completed</td>\n",
       "      <td>0.136213</td>\n",
       "      <td>2021-04-05 14:49:51+00:00</td>\n",
       "      <td>2021-04-05 14:50:53+00:00</td>\n",
       "      <td>62.0</td>\n",
       "    </tr>\n",
       "    <tr>\n",
       "      <th>2</th>\n",
       "      <td>506.0</td>\n",
       "      <td>TC58-SW010-WC006-210405-1444-007-7aff253f</td>\n",
       "      <td>Completed</td>\n",
       "      <td>0.136344</td>\n",
       "      <td>2021-04-05 14:52:50+00:00</td>\n",
       "      <td>2021-04-05 14:53:54+00:00</td>\n",
       "      <td>64.0</td>\n",
       "    </tr>\n",
       "    <tr>\n",
       "      <th>1</th>\n",
       "      <td>483.0</td>\n",
       "      <td>TC58-SW010-WC006-210405-1444-008-c20c6a15</td>\n",
       "      <td>Completed</td>\n",
       "      <td>0.137560</td>\n",
       "      <td>2021-04-05 14:53:10+00:00</td>\n",
       "      <td>2021-04-05 14:54:15+00:00</td>\n",
       "      <td>65.0</td>\n",
       "    </tr>\n",
       "    <tr>\n",
       "      <th>5</th>\n",
       "      <td>408.0</td>\n",
       "      <td>TC58-SW010-WC006-210405-1444-004-2c699c37</td>\n",
       "      <td>Completed</td>\n",
       "      <td>0.137659</td>\n",
       "      <td>2021-04-05 14:49:30+00:00</td>\n",
       "      <td>2021-04-05 14:50:18+00:00</td>\n",
       "      <td>48.0</td>\n",
       "    </tr>\n",
       "    <tr>\n",
       "      <th>8</th>\n",
       "      <td>588.0</td>\n",
       "      <td>TC58-SW010-WC006-210405-1444-001-b7524cf3</td>\n",
       "      <td>Completed</td>\n",
       "      <td>0.138861</td>\n",
       "      <td>2021-04-05 14:46:17+00:00</td>\n",
       "      <td>2021-04-05 14:47:19+00:00</td>\n",
       "      <td>62.0</td>\n",
       "    </tr>\n",
       "    <tr>\n",
       "      <th>0</th>\n",
       "      <td>144.0</td>\n",
       "      <td>TC58-SW010-WC006-210405-1444-009-8e99177b</td>\n",
       "      <td>Completed</td>\n",
       "      <td>0.139664</td>\n",
       "      <td>2021-04-05 14:53:07+00:00</td>\n",
       "      <td>2021-04-05 14:53:50+00:00</td>\n",
       "      <td>43.0</td>\n",
       "    </tr>\n",
       "    <tr>\n",
       "      <th>7</th>\n",
       "      <td>826.0</td>\n",
       "      <td>TC58-SW010-WC006-210405-1444-002-9d602c33</td>\n",
       "      <td>Completed</td>\n",
       "      <td>0.139913</td>\n",
       "      <td>2021-04-05 14:46:17+00:00</td>\n",
       "      <td>2021-04-05 14:47:18+00:00</td>\n",
       "      <td>61.0</td>\n",
       "    </tr>\n",
       "  </tbody>\n",
       "</table>\n",
       "</div>"
      ],
      "text/plain": [
       "   num_round                            TrainingJobName TrainingJobStatus  \\\n",
       "4  517.0      TC58-SW010-WC006-210405-1444-005-f9925ce7  Completed          \n",
       "6  522.0      TC58-SW010-WC006-210405-1444-003-ee48a7e9  Completed          \n",
       "3  354.0      TC58-SW010-WC006-210405-1444-006-698d3951  Completed          \n",
       "2  506.0      TC58-SW010-WC006-210405-1444-007-7aff253f  Completed          \n",
       "1  483.0      TC58-SW010-WC006-210405-1444-008-c20c6a15  Completed          \n",
       "5  408.0      TC58-SW010-WC006-210405-1444-004-2c699c37  Completed          \n",
       "8  588.0      TC58-SW010-WC006-210405-1444-001-b7524cf3  Completed          \n",
       "0  144.0      TC58-SW010-WC006-210405-1444-009-8e99177b  Completed          \n",
       "7  826.0      TC58-SW010-WC006-210405-1444-002-9d602c33  Completed          \n",
       "\n",
       "   FinalObjectiveValue         TrainingStartTime           TrainingEndTime  \\\n",
       "4  0.134542            2021-04-05 14:49:32+00:00 2021-04-05 14:50:45+00:00   \n",
       "6  0.134943            2021-04-05 14:46:28+00:00 2021-04-05 14:47:32+00:00   \n",
       "3  0.136213            2021-04-05 14:49:51+00:00 2021-04-05 14:50:53+00:00   \n",
       "2  0.136344            2021-04-05 14:52:50+00:00 2021-04-05 14:53:54+00:00   \n",
       "1  0.137560            2021-04-05 14:53:10+00:00 2021-04-05 14:54:15+00:00   \n",
       "5  0.137659            2021-04-05 14:49:30+00:00 2021-04-05 14:50:18+00:00   \n",
       "8  0.138861            2021-04-05 14:46:17+00:00 2021-04-05 14:47:19+00:00   \n",
       "0  0.139664            2021-04-05 14:53:07+00:00 2021-04-05 14:53:50+00:00   \n",
       "7  0.139913            2021-04-05 14:46:17+00:00 2021-04-05 14:47:18+00:00   \n",
       "\n",
       "   TrainingElapsedTimeSeconds  \n",
       "4  73.0                        \n",
       "6  64.0                        \n",
       "3  62.0                        \n",
       "2  64.0                        \n",
       "1  65.0                        \n",
       "5  48.0                        \n",
       "8  62.0                        \n",
       "0  43.0                        \n",
       "7  61.0                        "
      ]
     },
     "execution_count": 36,
     "metadata": {},
     "output_type": "execute_result"
    }
   ],
   "source": [
    "import pandas as pd\n",
    "\n",
    "tuner = sagemaker.HyperparameterTuningJobAnalytics(tuning_job_name)\n",
    "\n",
    "full_df = tuner.dataframe()\n",
    "\n",
    "if len(full_df) > 0:\n",
    "    df = full_df[full_df['FinalObjectiveValue'] > -float('inf')]\n",
    "    if len(df) > 0:\n",
    "        df = df.sort_values('FinalObjectiveValue', ascending=is_minimize)\n",
    "        print(\"Number of training jobs with valid objective: %d\" % len(df))\n",
    "        print({\"lowest\":min(df['FinalObjectiveValue']),\"highest\": max(df['FinalObjectiveValue'])})\n",
    "        pd.set_option('display.max_colwidth', -1)  # Don't truncate TrainingJobName        \n",
    "    else:\n",
    "        print(\"No training jobs have reported valid results yet.\")\n",
    "        \n",
    "df"
   ]
  },
  {
   "cell_type": "markdown",
   "metadata": {},
   "source": [
    "### 查看TuningJob结果与时间的关系\n",
    "\n",
    "接下来，我们将说明随着调整工作的进行，客观指标如何随时间变化。 对于贝叶斯策略，您应该期望看到一个总体趋势，即取得更好的结果，但是这种进展将不会稳定，因为该算法需要平衡参数空间的新区域的探索与已知良好区域的探索之间的平衡。 这样可以使您了解培训工作的数量是否足以满足您搜索空间的复杂性。"
   ]
  },
  {
   "cell_type": "code",
   "execution_count": 38,
   "metadata": {},
   "outputs": [
    {
     "data": {
      "text/html": [
       "\n",
       "    <div class=\"bk-root\">\n",
       "        <a href=\"https://bokeh.org\" target=\"_blank\" class=\"bk-logo bk-logo-small bk-logo-notebook\"></a>\n",
       "        <span id=\"1184\">Loading BokehJS ...</span>\n",
       "    </div>"
      ]
     },
     "metadata": {},
     "output_type": "display_data"
    },
    {
     "data": {
      "application/javascript": [
       "\n",
       "(function(root) {\n",
       "  function now() {\n",
       "    return new Date();\n",
       "  }\n",
       "\n",
       "  var force = true;\n",
       "\n",
       "  if (typeof root._bokeh_onload_callbacks === \"undefined\" || force === true) {\n",
       "    root._bokeh_onload_callbacks = [];\n",
       "    root._bokeh_is_loading = undefined;\n",
       "  }\n",
       "\n",
       "  var JS_MIME_TYPE = 'application/javascript';\n",
       "  var HTML_MIME_TYPE = 'text/html';\n",
       "  var EXEC_MIME_TYPE = 'application/vnd.bokehjs_exec.v0+json';\n",
       "  var CLASS_NAME = 'output_bokeh rendered_html';\n",
       "\n",
       "  /**\n",
       "   * Render data to the DOM node\n",
       "   */\n",
       "  function render(props, node) {\n",
       "    var script = document.createElement(\"script\");\n",
       "    node.appendChild(script);\n",
       "  }\n",
       "\n",
       "  /**\n",
       "   * Handle when an output is cleared or removed\n",
       "   */\n",
       "  function handleClearOutput(event, handle) {\n",
       "    var cell = handle.cell;\n",
       "\n",
       "    var id = cell.output_area._bokeh_element_id;\n",
       "    var server_id = cell.output_area._bokeh_server_id;\n",
       "    // Clean up Bokeh references\n",
       "    if (id != null && id in Bokeh.index) {\n",
       "      Bokeh.index[id].model.document.clear();\n",
       "      delete Bokeh.index[id];\n",
       "    }\n",
       "\n",
       "    if (server_id !== undefined) {\n",
       "      // Clean up Bokeh references\n",
       "      var cmd = \"from bokeh.io.state import curstate; print(curstate().uuid_to_server['\" + server_id + \"'].get_sessions()[0].document.roots[0]._id)\";\n",
       "      cell.notebook.kernel.execute(cmd, {\n",
       "        iopub: {\n",
       "          output: function(msg) {\n",
       "            var id = msg.content.text.trim();\n",
       "            if (id in Bokeh.index) {\n",
       "              Bokeh.index[id].model.document.clear();\n",
       "              delete Bokeh.index[id];\n",
       "            }\n",
       "          }\n",
       "        }\n",
       "      });\n",
       "      // Destroy server and session\n",
       "      var cmd = \"import bokeh.io.notebook as ion; ion.destroy_server('\" + server_id + \"')\";\n",
       "      cell.notebook.kernel.execute(cmd);\n",
       "    }\n",
       "  }\n",
       "\n",
       "  /**\n",
       "   * Handle when a new output is added\n",
       "   */\n",
       "  function handleAddOutput(event, handle) {\n",
       "    var output_area = handle.output_area;\n",
       "    var output = handle.output;\n",
       "\n",
       "    // limit handleAddOutput to display_data with EXEC_MIME_TYPE content only\n",
       "    if ((output.output_type != \"display_data\") || (!output.data.hasOwnProperty(EXEC_MIME_TYPE))) {\n",
       "      return\n",
       "    }\n",
       "\n",
       "    var toinsert = output_area.element.find(\".\" + CLASS_NAME.split(' ')[0]);\n",
       "\n",
       "    if (output.metadata[EXEC_MIME_TYPE][\"id\"] !== undefined) {\n",
       "      toinsert[toinsert.length - 1].firstChild.textContent = output.data[JS_MIME_TYPE];\n",
       "      // store reference to embed id on output_area\n",
       "      output_area._bokeh_element_id = output.metadata[EXEC_MIME_TYPE][\"id\"];\n",
       "    }\n",
       "    if (output.metadata[EXEC_MIME_TYPE][\"server_id\"] !== undefined) {\n",
       "      var bk_div = document.createElement(\"div\");\n",
       "      bk_div.innerHTML = output.data[HTML_MIME_TYPE];\n",
       "      var script_attrs = bk_div.children[0].attributes;\n",
       "      for (var i = 0; i < script_attrs.length; i++) {\n",
       "        toinsert[toinsert.length - 1].firstChild.setAttribute(script_attrs[i].name, script_attrs[i].value);\n",
       "      }\n",
       "      // store reference to server id on output_area\n",
       "      output_area._bokeh_server_id = output.metadata[EXEC_MIME_TYPE][\"server_id\"];\n",
       "    }\n",
       "  }\n",
       "\n",
       "  function register_renderer(events, OutputArea) {\n",
       "\n",
       "    function append_mime(data, metadata, element) {\n",
       "      // create a DOM node to render to\n",
       "      var toinsert = this.create_output_subarea(\n",
       "        metadata,\n",
       "        CLASS_NAME,\n",
       "        EXEC_MIME_TYPE\n",
       "      );\n",
       "      this.keyboard_manager.register_events(toinsert);\n",
       "      // Render to node\n",
       "      var props = {data: data, metadata: metadata[EXEC_MIME_TYPE]};\n",
       "      render(props, toinsert[toinsert.length - 1]);\n",
       "      element.append(toinsert);\n",
       "      return toinsert\n",
       "    }\n",
       "\n",
       "    /* Handle when an output is cleared or removed */\n",
       "    events.on('clear_output.CodeCell', handleClearOutput);\n",
       "    events.on('delete.Cell', handleClearOutput);\n",
       "\n",
       "    /* Handle when a new output is added */\n",
       "    events.on('output_added.OutputArea', handleAddOutput);\n",
       "\n",
       "    /**\n",
       "     * Register the mime type and append_mime function with output_area\n",
       "     */\n",
       "    OutputArea.prototype.register_mime_type(EXEC_MIME_TYPE, append_mime, {\n",
       "      /* Is output safe? */\n",
       "      safe: true,\n",
       "      /* Index of renderer in `output_area.display_order` */\n",
       "      index: 0\n",
       "    });\n",
       "  }\n",
       "\n",
       "  // register the mime type if in Jupyter Notebook environment and previously unregistered\n",
       "  if (root.Jupyter !== undefined) {\n",
       "    var events = require('base/js/events');\n",
       "    var OutputArea = require('notebook/js/outputarea').OutputArea;\n",
       "\n",
       "    if (OutputArea.prototype.mime_types().indexOf(EXEC_MIME_TYPE) == -1) {\n",
       "      register_renderer(events, OutputArea);\n",
       "    }\n",
       "  }\n",
       "\n",
       "  \n",
       "  if (typeof (root._bokeh_timeout) === \"undefined\" || force === true) {\n",
       "    root._bokeh_timeout = Date.now() + 5000;\n",
       "    root._bokeh_failed_load = false;\n",
       "  }\n",
       "\n",
       "  var NB_LOAD_WARNING = {'data': {'text/html':\n",
       "     \"<div style='background-color: #fdd'>\\n\"+\n",
       "     \"<p>\\n\"+\n",
       "     \"BokehJS does not appear to have successfully loaded. If loading BokehJS from CDN, this \\n\"+\n",
       "     \"may be due to a slow or bad network connection. Possible fixes:\\n\"+\n",
       "     \"</p>\\n\"+\n",
       "     \"<ul>\\n\"+\n",
       "     \"<li>re-rerun `output_notebook()` to attempt to load from CDN again, or</li>\\n\"+\n",
       "     \"<li>use INLINE resources instead, as so:</li>\\n\"+\n",
       "     \"</ul>\\n\"+\n",
       "     \"<code>\\n\"+\n",
       "     \"from bokeh.resources import INLINE\\n\"+\n",
       "     \"output_notebook(resources=INLINE)\\n\"+\n",
       "     \"</code>\\n\"+\n",
       "     \"</div>\"}};\n",
       "\n",
       "  function display_loaded() {\n",
       "    var el = document.getElementById(\"1184\");\n",
       "    if (el != null) {\n",
       "      el.textContent = \"BokehJS is loading...\";\n",
       "    }\n",
       "    if (root.Bokeh !== undefined) {\n",
       "      if (el != null) {\n",
       "        el.textContent = \"BokehJS \" + root.Bokeh.version + \" successfully loaded.\";\n",
       "      }\n",
       "    } else if (Date.now() < root._bokeh_timeout) {\n",
       "      setTimeout(display_loaded, 100)\n",
       "    }\n",
       "  }\n",
       "\n",
       "\n",
       "  function run_callbacks() {\n",
       "    try {\n",
       "      root._bokeh_onload_callbacks.forEach(function(callback) {\n",
       "        if (callback != null)\n",
       "          callback();\n",
       "      });\n",
       "    } finally {\n",
       "      delete root._bokeh_onload_callbacks\n",
       "    }\n",
       "    console.debug(\"Bokeh: all callbacks have finished\");\n",
       "  }\n",
       "\n",
       "  function load_libs(css_urls, js_urls, callback) {\n",
       "    if (css_urls == null) css_urls = [];\n",
       "    if (js_urls == null) js_urls = [];\n",
       "\n",
       "    root._bokeh_onload_callbacks.push(callback);\n",
       "    if (root._bokeh_is_loading > 0) {\n",
       "      console.debug(\"Bokeh: BokehJS is being loaded, scheduling callback at\", now());\n",
       "      return null;\n",
       "    }\n",
       "    if (js_urls == null || js_urls.length === 0) {\n",
       "      run_callbacks();\n",
       "      return null;\n",
       "    }\n",
       "    console.debug(\"Bokeh: BokehJS not loaded, scheduling load and callback at\", now());\n",
       "    root._bokeh_is_loading = css_urls.length + js_urls.length;\n",
       "\n",
       "    function on_load() {\n",
       "      root._bokeh_is_loading--;\n",
       "      if (root._bokeh_is_loading === 0) {\n",
       "        console.debug(\"Bokeh: all BokehJS libraries/stylesheets loaded\");\n",
       "        run_callbacks()\n",
       "      }\n",
       "    }\n",
       "\n",
       "    function on_error() {\n",
       "      console.error(\"failed to load \" + url);\n",
       "    }\n",
       "\n",
       "    for (var i = 0; i < css_urls.length; i++) {\n",
       "      var url = css_urls[i];\n",
       "      const element = document.createElement(\"link\");\n",
       "      element.onload = on_load;\n",
       "      element.onerror = on_error;\n",
       "      element.rel = \"stylesheet\";\n",
       "      element.type = \"text/css\";\n",
       "      element.href = url;\n",
       "      console.debug(\"Bokeh: injecting link tag for BokehJS stylesheet: \", url);\n",
       "      document.body.appendChild(element);\n",
       "    }\n",
       "\n",
       "    for (var i = 0; i < js_urls.length; i++) {\n",
       "      var url = js_urls[i];\n",
       "      var element = document.createElement('script');\n",
       "      element.onload = on_load;\n",
       "      element.onerror = on_error;\n",
       "      element.async = false;\n",
       "      element.src = url;\n",
       "      console.debug(\"Bokeh: injecting script tag for BokehJS library: \", url);\n",
       "      document.head.appendChild(element);\n",
       "    }\n",
       "  };var element = document.getElementById(\"1184\");\n",
       "  if (element == null) {\n",
       "    console.error(\"Bokeh: ERROR: autoload.js configured with elementid '1184' but no matching script tag was found. \")\n",
       "    return false;\n",
       "  }\n",
       "\n",
       "  function inject_raw_css(css) {\n",
       "    const element = document.createElement(\"style\");\n",
       "    element.appendChild(document.createTextNode(css));\n",
       "    document.body.appendChild(element);\n",
       "  }\n",
       "\n",
       "  \n",
       "  var js_urls = [\"https://cdn.pydata.org/bokeh/release/bokeh-1.4.0.min.js\", \"https://cdn.pydata.org/bokeh/release/bokeh-widgets-1.4.0.min.js\", \"https://cdn.pydata.org/bokeh/release/bokeh-tables-1.4.0.min.js\", \"https://cdn.pydata.org/bokeh/release/bokeh-gl-1.4.0.min.js\"];\n",
       "  var css_urls = [];\n",
       "  \n",
       "\n",
       "  var inline_js = [\n",
       "    function(Bokeh) {\n",
       "      Bokeh.set_log_level(\"info\");\n",
       "    },\n",
       "    function(Bokeh) {\n",
       "    \n",
       "    \n",
       "    }\n",
       "  ];\n",
       "\n",
       "  function run_inline_js() {\n",
       "    \n",
       "    if (root.Bokeh !== undefined || force === true) {\n",
       "      \n",
       "    for (var i = 0; i < inline_js.length; i++) {\n",
       "      inline_js[i].call(root, root.Bokeh);\n",
       "    }\n",
       "    if (force === true) {\n",
       "        display_loaded();\n",
       "      }} else if (Date.now() < root._bokeh_timeout) {\n",
       "      setTimeout(run_inline_js, 100);\n",
       "    } else if (!root._bokeh_failed_load) {\n",
       "      console.log(\"Bokeh: BokehJS failed to load within specified timeout.\");\n",
       "      root._bokeh_failed_load = true;\n",
       "    } else if (force !== true) {\n",
       "      var cell = $(document.getElementById(\"1184\")).parents('.cell').data().cell;\n",
       "      cell.output_area.append_execute_result(NB_LOAD_WARNING)\n",
       "    }\n",
       "\n",
       "  }\n",
       "\n",
       "  if (root._bokeh_is_loading === 0) {\n",
       "    console.debug(\"Bokeh: BokehJS loaded, going straight to plotting\");\n",
       "    run_inline_js();\n",
       "  } else {\n",
       "    load_libs(css_urls, js_urls, function() {\n",
       "      console.debug(\"Bokeh: BokehJS plotting callback run at\", now());\n",
       "      run_inline_js();\n",
       "    });\n",
       "  }\n",
       "}(window));"
      ],
      "application/vnd.bokehjs_load.v0+json": "\n(function(root) {\n  function now() {\n    return new Date();\n  }\n\n  var force = true;\n\n  if (typeof root._bokeh_onload_callbacks === \"undefined\" || force === true) {\n    root._bokeh_onload_callbacks = [];\n    root._bokeh_is_loading = undefined;\n  }\n\n  \n\n  \n  if (typeof (root._bokeh_timeout) === \"undefined\" || force === true) {\n    root._bokeh_timeout = Date.now() + 5000;\n    root._bokeh_failed_load = false;\n  }\n\n  var NB_LOAD_WARNING = {'data': {'text/html':\n     \"<div style='background-color: #fdd'>\\n\"+\n     \"<p>\\n\"+\n     \"BokehJS does not appear to have successfully loaded. If loading BokehJS from CDN, this \\n\"+\n     \"may be due to a slow or bad network connection. Possible fixes:\\n\"+\n     \"</p>\\n\"+\n     \"<ul>\\n\"+\n     \"<li>re-rerun `output_notebook()` to attempt to load from CDN again, or</li>\\n\"+\n     \"<li>use INLINE resources instead, as so:</li>\\n\"+\n     \"</ul>\\n\"+\n     \"<code>\\n\"+\n     \"from bokeh.resources import INLINE\\n\"+\n     \"output_notebook(resources=INLINE)\\n\"+\n     \"</code>\\n\"+\n     \"</div>\"}};\n\n  function display_loaded() {\n    var el = document.getElementById(\"1184\");\n    if (el != null) {\n      el.textContent = \"BokehJS is loading...\";\n    }\n    if (root.Bokeh !== undefined) {\n      if (el != null) {\n        el.textContent = \"BokehJS \" + root.Bokeh.version + \" successfully loaded.\";\n      }\n    } else if (Date.now() < root._bokeh_timeout) {\n      setTimeout(display_loaded, 100)\n    }\n  }\n\n\n  function run_callbacks() {\n    try {\n      root._bokeh_onload_callbacks.forEach(function(callback) {\n        if (callback != null)\n          callback();\n      });\n    } finally {\n      delete root._bokeh_onload_callbacks\n    }\n    console.debug(\"Bokeh: all callbacks have finished\");\n  }\n\n  function load_libs(css_urls, js_urls, callback) {\n    if (css_urls == null) css_urls = [];\n    if (js_urls == null) js_urls = [];\n\n    root._bokeh_onload_callbacks.push(callback);\n    if (root._bokeh_is_loading > 0) {\n      console.debug(\"Bokeh: BokehJS is being loaded, scheduling callback at\", now());\n      return null;\n    }\n    if (js_urls == null || js_urls.length === 0) {\n      run_callbacks();\n      return null;\n    }\n    console.debug(\"Bokeh: BokehJS not loaded, scheduling load and callback at\", now());\n    root._bokeh_is_loading = css_urls.length + js_urls.length;\n\n    function on_load() {\n      root._bokeh_is_loading--;\n      if (root._bokeh_is_loading === 0) {\n        console.debug(\"Bokeh: all BokehJS libraries/stylesheets loaded\");\n        run_callbacks()\n      }\n    }\n\n    function on_error() {\n      console.error(\"failed to load \" + url);\n    }\n\n    for (var i = 0; i < css_urls.length; i++) {\n      var url = css_urls[i];\n      const element = document.createElement(\"link\");\n      element.onload = on_load;\n      element.onerror = on_error;\n      element.rel = \"stylesheet\";\n      element.type = \"text/css\";\n      element.href = url;\n      console.debug(\"Bokeh: injecting link tag for BokehJS stylesheet: \", url);\n      document.body.appendChild(element);\n    }\n\n    for (var i = 0; i < js_urls.length; i++) {\n      var url = js_urls[i];\n      var element = document.createElement('script');\n      element.onload = on_load;\n      element.onerror = on_error;\n      element.async = false;\n      element.src = url;\n      console.debug(\"Bokeh: injecting script tag for BokehJS library: \", url);\n      document.head.appendChild(element);\n    }\n  };var element = document.getElementById(\"1184\");\n  if (element == null) {\n    console.error(\"Bokeh: ERROR: autoload.js configured with elementid '1184' but no matching script tag was found. \")\n    return false;\n  }\n\n  function inject_raw_css(css) {\n    const element = document.createElement(\"style\");\n    element.appendChild(document.createTextNode(css));\n    document.body.appendChild(element);\n  }\n\n  \n  var js_urls = [\"https://cdn.pydata.org/bokeh/release/bokeh-1.4.0.min.js\", \"https://cdn.pydata.org/bokeh/release/bokeh-widgets-1.4.0.min.js\", \"https://cdn.pydata.org/bokeh/release/bokeh-tables-1.4.0.min.js\", \"https://cdn.pydata.org/bokeh/release/bokeh-gl-1.4.0.min.js\"];\n  var css_urls = [];\n  \n\n  var inline_js = [\n    function(Bokeh) {\n      Bokeh.set_log_level(\"info\");\n    },\n    function(Bokeh) {\n    \n    \n    }\n  ];\n\n  function run_inline_js() {\n    \n    if (root.Bokeh !== undefined || force === true) {\n      \n    for (var i = 0; i < inline_js.length; i++) {\n      inline_js[i].call(root, root.Bokeh);\n    }\n    if (force === true) {\n        display_loaded();\n      }} else if (Date.now() < root._bokeh_timeout) {\n      setTimeout(run_inline_js, 100);\n    } else if (!root._bokeh_failed_load) {\n      console.log(\"Bokeh: BokehJS failed to load within specified timeout.\");\n      root._bokeh_failed_load = true;\n    } else if (force !== true) {\n      var cell = $(document.getElementById(\"1184\")).parents('.cell').data().cell;\n      cell.output_area.append_execute_result(NB_LOAD_WARNING)\n    }\n\n  }\n\n  if (root._bokeh_is_loading === 0) {\n    console.debug(\"Bokeh: BokehJS loaded, going straight to plotting\");\n    run_inline_js();\n  } else {\n    load_libs(css_urls, js_urls, function() {\n      console.debug(\"Bokeh: BokehJS plotting callback run at\", now());\n      run_inline_js();\n    });\n  }\n}(window));"
     },
     "metadata": {},
     "output_type": "display_data"
    },
    {
     "data": {
      "text/html": [
       "\n",
       "\n",
       "\n",
       "\n",
       "\n",
       "\n",
       "  <div class=\"bk-root\" id=\"43fdf4c5-c67d-4193-8764-4891eed355c0\" data-root-id=\"1186\"></div>\n"
      ]
     },
     "metadata": {},
     "output_type": "display_data"
    },
    {
     "data": {
      "application/javascript": [
       "(function(root) {\n",
       "  function embed_document(root) {\n",
       "    \n",
       "  var docs_json = {\"d16dc644-8014-4c50-ae04-51300c6f0a92\":{\"roots\":{\"references\":[{\"attributes\":{\"below\":[{\"id\":\"1195\",\"type\":\"DatetimeAxis\"}],\"center\":[{\"id\":\"1199\",\"type\":\"Grid\"},{\"id\":\"1204\",\"type\":\"Grid\"}],\"left\":[{\"id\":\"1200\",\"type\":\"LinearAxis\"}],\"plot_height\":400,\"plot_width\":900,\"renderers\":[{\"id\":\"1225\",\"type\":\"GlyphRenderer\"}],\"title\":{\"id\":\"1248\",\"type\":\"Title\"},\"toolbar\":{\"id\":\"1212\",\"type\":\"Toolbar\"},\"x_range\":{\"id\":\"1187\",\"type\":\"DataRange1d\"},\"x_scale\":{\"id\":\"1191\",\"type\":\"LinearScale\"},\"y_range\":{\"id\":\"1189\",\"type\":\"DataRange1d\"},\"y_scale\":{\"id\":\"1193\",\"type\":\"LinearScale\"}},\"id\":\"1186\",\"subtype\":\"Figure\",\"type\":\"Plot\"},{\"attributes\":{\"months\":[0,4,8]},\"id\":\"1264\",\"type\":\"MonthsTicker\"},{\"attributes\":{},\"id\":\"1253\",\"type\":\"UnionRenderers\"},{\"attributes\":{\"months\":[0,6]},\"id\":\"1265\",\"type\":\"MonthsTicker\"},{\"attributes\":{\"formatter\":{\"id\":\"1249\",\"type\":\"BasicTickFormatter\"},\"ticker\":{\"id\":\"1201\",\"type\":\"BasicTicker\"}},\"id\":\"1200\",\"type\":\"LinearAxis\"},{\"attributes\":{},\"id\":\"1251\",\"type\":\"DatetimeTickFormatter\"},{\"attributes\":{\"mantissas\":[1,2,5],\"max_interval\":500.0,\"num_minor_ticks\":0},\"id\":\"1255\",\"type\":\"AdaptiveTicker\"},{\"attributes\":{},\"id\":\"1266\",\"type\":\"YearsTicker\"},{\"attributes\":{\"text\":\"\"},\"id\":\"1248\",\"type\":\"Title\"},{\"attributes\":{},\"id\":\"1249\",\"type\":\"BasicTickFormatter\"},{\"attributes\":{\"callback\":null},\"id\":\"1189\",\"type\":\"DataRange1d\"},{\"attributes\":{},\"id\":\"1205\",\"type\":\"PanTool\"},{\"attributes\":{},\"id\":\"1207\",\"type\":\"WheelZoomTool\"},{\"attributes\":{\"base\":60,\"mantissas\":[1,2,5,10,15,20,30],\"max_interval\":1800000.0,\"min_interval\":1000.0,\"num_minor_ticks\":0},\"id\":\"1256\",\"type\":\"AdaptiveTicker\"},{\"attributes\":{\"active_drag\":\"auto\",\"active_inspect\":\"auto\",\"active_multi\":null,\"active_scroll\":\"auto\",\"active_tap\":\"auto\",\"tools\":[{\"id\":\"1185\",\"type\":\"HoverTool\"},{\"id\":\"1205\",\"type\":\"PanTool\"},{\"id\":\"1206\",\"type\":\"CrosshairTool\"},{\"id\":\"1207\",\"type\":\"WheelZoomTool\"},{\"id\":\"1208\",\"type\":\"ZoomInTool\"},{\"id\":\"1209\",\"type\":\"ZoomOutTool\"},{\"id\":\"1210\",\"type\":\"UndoTool\"},{\"id\":\"1211\",\"type\":\"ResetTool\"}]},\"id\":\"1212\",\"type\":\"Toolbar\"},{\"attributes\":{\"num_minor_ticks\":5,\"tickers\":[{\"id\":\"1255\",\"type\":\"AdaptiveTicker\"},{\"id\":\"1256\",\"type\":\"AdaptiveTicker\"},{\"id\":\"1257\",\"type\":\"AdaptiveTicker\"},{\"id\":\"1258\",\"type\":\"DaysTicker\"},{\"id\":\"1259\",\"type\":\"DaysTicker\"},{\"id\":\"1260\",\"type\":\"DaysTicker\"},{\"id\":\"1261\",\"type\":\"DaysTicker\"},{\"id\":\"1262\",\"type\":\"MonthsTicker\"},{\"id\":\"1263\",\"type\":\"MonthsTicker\"},{\"id\":\"1264\",\"type\":\"MonthsTicker\"},{\"id\":\"1265\",\"type\":\"MonthsTicker\"},{\"id\":\"1266\",\"type\":\"YearsTicker\"}]},\"id\":\"1196\",\"type\":\"DatetimeTicker\"},{\"attributes\":{\"callback\":null,\"data\":{\"FinalObjectiveValue\":{\"__ndarray__\":\"AAAAIKw4wT8AAADgz0XBPwAAAIBtb8E/AAAAYLhzwT8AAADgkJvBPwAAAGDPnsE/AAAAgDLGwT8AAACAguDBPwAAAECr6ME/\",\"dtype\":\"float64\",\"shape\":[9]},\"TrainingElapsedTimeSeconds\":{\"__ndarray__\":\"AAAAAABAUkAAAAAAAABQQAAAAAAAAE9AAAAAAAAAUEAAAAAAAEBQQAAAAAAAAEhAAAAAAAAAT0AAAAAAAIBFQAAAAAAAgE5A\",\"dtype\":\"float64\",\"shape\":[9]},\"TrainingEndTime\":{\"__ndarray__\":\"AICYOyiKd0IAAHoMKIp3QgCAjD0oindCAAC9aSiKd0IAgN1uKIp3QgAAATUoindCAIBNCSiKd0IAAMNoKIp3QgAADwkoindC\",\"dtype\":\"float64\",\"shape\":[9]},\"TrainingJobName\":[\"TC58-SW010-WC006-210405-1444-005-f9925ce7\",\"TC58-SW010-WC006-210405-1444-003-ee48a7e9\",\"TC58-SW010-WC006-210405-1444-006-698d3951\",\"TC58-SW010-WC006-210405-1444-007-7aff253f\",\"TC58-SW010-WC006-210405-1444-008-c20c6a15\",\"TC58-SW010-WC006-210405-1444-004-2c699c37\",\"TC58-SW010-WC006-210405-1444-001-b7524cf3\",\"TC58-SW010-WC006-210405-1444-009-8e99177b\",\"TC58-SW010-WC006-210405-1444-002-9d602c33\"],\"TrainingJobStatus\":[\"Completed\",\"Completed\",\"Completed\",\"Completed\",\"Completed\",\"Completed\",\"Completed\",\"Completed\",\"Completed\"],\"TrainingStartTime\":{\"__ndarray__\":\"AADGKSiKd0IAANr8J4p3QgCAaS4oindCAAAdWiiKd0IAAP9eKIp3QgAASSkoindCAIAq+ieKd0IAgENeKIp3QgCAKvonindC\",\"dtype\":\"float64\",\"shape\":[9]},\"index\":[4,6,3,2,1,5,8,0,7],\"num_round\":{\"__ndarray__\":\"AAAAAAAogEAAAAAAAFCAQAAAAAAAIHZAAAAAAACgf0AAAAAAADB+QAAAAAAAgHlAAAAAAABggkAAAAAAAABiQAAAAAAA0IlA\",\"dtype\":\"float64\",\"shape\":[9]}},\"selected\":{\"id\":\"1254\",\"type\":\"Selection\"},\"selection_policy\":{\"id\":\"1253\",\"type\":\"UnionRenderers\"}},\"id\":\"1221\",\"type\":\"ColumnDataSource\"},{\"attributes\":{\"base\":24,\"mantissas\":[1,2,4,6,8,12],\"max_interval\":43200000.0,\"min_interval\":3600000.0,\"num_minor_ticks\":0},\"id\":\"1257\",\"type\":\"AdaptiveTicker\"},{\"attributes\":{},\"id\":\"1254\",\"type\":\"Selection\"},{\"attributes\":{\"dimension\":1,\"ticker\":{\"id\":\"1201\",\"type\":\"BasicTicker\"}},\"id\":\"1204\",\"type\":\"Grid\"},{\"attributes\":{\"callback\":null},\"id\":\"1187\",\"type\":\"DataRange1d\"},{\"attributes\":{},\"id\":\"1206\",\"type\":\"CrosshairTool\"},{\"attributes\":{\"source\":{\"id\":\"1221\",\"type\":\"ColumnDataSource\"}},\"id\":\"1226\",\"type\":\"CDSView\"},{\"attributes\":{\"days\":[1,2,3,4,5,6,7,8,9,10,11,12,13,14,15,16,17,18,19,20,21,22,23,24,25,26,27,28,29,30,31]},\"id\":\"1258\",\"type\":\"DaysTicker\"},{\"attributes\":{},\"id\":\"1210\",\"type\":\"UndoTool\"},{\"attributes\":{},\"id\":\"1208\",\"type\":\"ZoomInTool\"},{\"attributes\":{\"callback\":null,\"tooltips\":[[\"FinalObjectiveValue\",\"@FinalObjectiveValue\"],[\"TrainingJobName\",\"@TrainingJobName\"],[\"num_round\",\"@{num_round}\"]]},\"id\":\"1185\",\"type\":\"HoverTool\"},{\"attributes\":{},\"id\":\"1209\",\"type\":\"ZoomOutTool\"},{\"attributes\":{\"months\":[0,2,4,6,8,10]},\"id\":\"1263\",\"type\":\"MonthsTicker\"},{\"attributes\":{},\"id\":\"1201\",\"type\":\"BasicTicker\"},{\"attributes\":{\"days\":[1,4,7,10,13,16,19,22,25,28]},\"id\":\"1259\",\"type\":\"DaysTicker\"},{\"attributes\":{\"months\":[0,1,2,3,4,5,6,7,8,9,10,11]},\"id\":\"1262\",\"type\":\"MonthsTicker\"},{\"attributes\":{\"data_source\":{\"id\":\"1221\",\"type\":\"ColumnDataSource\"},\"glyph\":{\"id\":\"1223\",\"type\":\"Circle\"},\"hover_glyph\":null,\"muted_glyph\":null,\"nonselection_glyph\":{\"id\":\"1224\",\"type\":\"Circle\"},\"selection_glyph\":null,\"view\":{\"id\":\"1226\",\"type\":\"CDSView\"}},\"id\":\"1225\",\"type\":\"GlyphRenderer\"},{\"attributes\":{\"fill_color\":{\"value\":\"#1f77b4\"},\"line_color\":{\"value\":\"#1f77b4\"},\"x\":{\"field\":\"TrainingStartTime\"},\"y\":{\"field\":\"FinalObjectiveValue\"}},\"id\":\"1223\",\"type\":\"Circle\"},{\"attributes\":{},\"id\":\"1191\",\"type\":\"LinearScale\"},{\"attributes\":{\"ticker\":{\"id\":\"1196\",\"type\":\"DatetimeTicker\"}},\"id\":\"1199\",\"type\":\"Grid\"},{\"attributes\":{\"days\":[1,8,15,22]},\"id\":\"1260\",\"type\":\"DaysTicker\"},{\"attributes\":{\"formatter\":{\"id\":\"1251\",\"type\":\"DatetimeTickFormatter\"},\"ticker\":{\"id\":\"1196\",\"type\":\"DatetimeTicker\"}},\"id\":\"1195\",\"type\":\"DatetimeAxis\"},{\"attributes\":{\"fill_alpha\":{\"value\":0.1},\"fill_color\":{\"value\":\"#1f77b4\"},\"line_alpha\":{\"value\":0.1},\"line_color\":{\"value\":\"#1f77b4\"},\"x\":{\"field\":\"TrainingStartTime\"},\"y\":{\"field\":\"FinalObjectiveValue\"}},\"id\":\"1224\",\"type\":\"Circle\"},{\"attributes\":{},\"id\":\"1211\",\"type\":\"ResetTool\"},{\"attributes\":{\"days\":[1,15]},\"id\":\"1261\",\"type\":\"DaysTicker\"},{\"attributes\":{},\"id\":\"1193\",\"type\":\"LinearScale\"}],\"root_ids\":[\"1186\"]},\"title\":\"Bokeh Application\",\"version\":\"1.4.0\"}};\n",
       "  var render_items = [{\"docid\":\"d16dc644-8014-4c50-ae04-51300c6f0a92\",\"roots\":{\"1186\":\"43fdf4c5-c67d-4193-8764-4891eed355c0\"}}];\n",
       "  root.Bokeh.embed.embed_items_notebook(docs_json, render_items);\n",
       "\n",
       "  }\n",
       "  if (root.Bokeh !== undefined) {\n",
       "    embed_document(root);\n",
       "  } else {\n",
       "    var attempts = 0;\n",
       "    var timer = setInterval(function(root) {\n",
       "      if (root.Bokeh !== undefined) {\n",
       "        clearInterval(timer);\n",
       "        embed_document(root);\n",
       "      } else {\n",
       "        attempts++;\n",
       "        if (attempts > 100) {\n",
       "          clearInterval(timer);\n",
       "          console.log(\"Bokeh: ERROR: Unable to run BokehJS code because BokehJS library is missing\");\n",
       "        }\n",
       "      }\n",
       "    }, 10, root)\n",
       "  }\n",
       "})(window);"
      ],
      "application/vnd.bokehjs_exec.v0+json": ""
     },
     "metadata": {
      "application/vnd.bokehjs_exec.v0+json": {
       "id": "1186"
      }
     },
     "output_type": "display_data"
    }
   ],
   "source": [
    "#!pip install bokeh # 如果报错\n",
    "import bokeh\n",
    "import bokeh.io\n",
    "bokeh.io.output_notebook()\n",
    "from bokeh.plotting import figure, show\n",
    "from bokeh.models import HoverTool\n",
    "\n",
    "class HoverHelper():\n",
    "\n",
    "    def __init__(self, tuning_analytics):\n",
    "        self.tuner = tuning_analytics\n",
    "\n",
    "    def hovertool(self):\n",
    "        tooltips = [\n",
    "            (\"FinalObjectiveValue\", \"@FinalObjectiveValue\"),\n",
    "            (\"TrainingJobName\", \"@TrainingJobName\"),\n",
    "        ]\n",
    "        for k in self.tuner.tuning_ranges.keys():\n",
    "            tooltips.append( (k, \"@{%s}\" % k) )\n",
    "\n",
    "        ht = HoverTool(tooltips=tooltips)\n",
    "        return ht\n",
    "\n",
    "    def tools(self, standard_tools='pan,crosshair,wheel_zoom,zoom_in,zoom_out,undo,reset'):\n",
    "        return [self.hovertool(), standard_tools]\n",
    "\n",
    "hover = HoverHelper(tuner)\n",
    "\n",
    "p = figure(plot_width=900, plot_height=400, tools=hover.tools(), x_axis_type='datetime')\n",
    "p.circle(source=df, x='TrainingStartTime', y='FinalObjectiveValue')\n",
    "show(p)"
   ]
  },
  {
   "cell_type": "markdown",
   "metadata": {},
   "source": [
    "### 分析客观指标和单个超参数之间的相关性\n",
    "您已经完成了调优工作，您可能想知道目标指标和您选择要调整的单个超参数之间的相关性。\n",
    "有了这些见识，可以帮助您确定为某些超参数调整搜索范围并开始另一项调优工作是否有意义。\n",
    "例如，如果您看到客观指标和数值超参数之间呈正趋势，则可能要在下一个调整工作中为该超参数设置更高的调整范围。\n",
    "\n",
    "下面的单元格为每个超参数绘制一个图形，以显示其与目标指标的相关性。"
   ]
  },
  {
   "cell_type": "code",
   "execution_count": 39,
   "metadata": {},
   "outputs": [
    {
     "data": {
      "text/html": [
       "\n",
       "\n",
       "\n",
       "\n",
       "\n",
       "\n",
       "  <div class=\"bk-root\" id=\"e276403a-03c7-4ed4-aa1d-1169cb972c41\" data-root-id=\"1431\"></div>\n"
      ]
     },
     "metadata": {},
     "output_type": "display_data"
    },
    {
     "data": {
      "application/javascript": [
       "(function(root) {\n",
       "  function embed_document(root) {\n",
       "    \n",
       "  var docs_json = {\"c8b332a0-46c2-484c-8616-981e15d306ba\":{\"roots\":{\"references\":[{\"attributes\":{\"children\":[{\"id\":\"1388\",\"subtype\":\"Figure\",\"type\":\"Plot\"}]},\"id\":\"1431\",\"type\":\"Column\"},{\"attributes\":{},\"id\":\"1397\",\"type\":\"LinearScale\"},{\"attributes\":{\"dimension\":1,\"ticker\":{\"id\":\"1405\",\"type\":\"BasicTicker\"}},\"id\":\"1408\",\"type\":\"Grid\"},{\"attributes\":{},\"id\":\"1473\",\"type\":\"BasicTickFormatter\"},{\"attributes\":{},\"id\":\"1414\",\"type\":\"UndoTool\"},{\"attributes\":{\"axis_label\":\"num_round\",\"formatter\":{\"id\":\"1475\",\"type\":\"BasicTickFormatter\"},\"ticker\":{\"id\":\"1400\",\"type\":\"BasicTicker\"}},\"id\":\"1399\",\"type\":\"LinearAxis\"},{\"attributes\":{},\"id\":\"1415\",\"type\":\"ResetTool\"},{\"attributes\":{},\"id\":\"1413\",\"type\":\"ZoomOutTool\"},{\"attributes\":{\"ticker\":{\"id\":\"1400\",\"type\":\"BasicTicker\"}},\"id\":\"1403\",\"type\":\"Grid\"},{\"attributes\":{},\"id\":\"1478\",\"type\":\"Selection\"},{\"attributes\":{\"fill_color\":{\"value\":\"#1f77b4\"},\"line_color\":{\"value\":\"#1f77b4\"},\"x\":{\"field\":\"num_round\"},\"y\":{\"field\":\"FinalObjectiveValue\"}},\"id\":\"1427\",\"type\":\"Circle\"},{\"attributes\":{},\"id\":\"1405\",\"type\":\"BasicTicker\"},{\"attributes\":{\"axis_label\":\"validation:mae\",\"formatter\":{\"id\":\"1473\",\"type\":\"BasicTickFormatter\"},\"ticker\":{\"id\":\"1405\",\"type\":\"BasicTicker\"}},\"id\":\"1404\",\"type\":\"LinearAxis\"},{\"attributes\":{\"source\":{\"id\":\"1425\",\"type\":\"ColumnDataSource\"}},\"id\":\"1430\",\"type\":\"CDSView\"},{\"attributes\":{},\"id\":\"1477\",\"type\":\"UnionRenderers\"},{\"attributes\":{\"callback\":null,\"tooltips\":[[\"FinalObjectiveValue\",\"@FinalObjectiveValue\"],[\"TrainingJobName\",\"@TrainingJobName\"],[\"num_round\",\"@{num_round}\"]]},\"id\":\"1387\",\"type\":\"HoverTool\"},{\"attributes\":{\"below\":[{\"id\":\"1399\",\"type\":\"LinearAxis\"}],\"center\":[{\"id\":\"1403\",\"type\":\"Grid\"},{\"id\":\"1408\",\"type\":\"Grid\"}],\"left\":[{\"id\":\"1404\",\"type\":\"LinearAxis\"}],\"plot_height\":500,\"plot_width\":500,\"renderers\":[{\"id\":\"1429\",\"type\":\"GlyphRenderer\"}],\"title\":{\"id\":\"1389\",\"type\":\"Title\"},\"toolbar\":{\"id\":\"1416\",\"type\":\"Toolbar\"},\"x_range\":{\"id\":\"1391\",\"type\":\"DataRange1d\"},\"x_scale\":{\"id\":\"1395\",\"type\":\"LinearScale\"},\"y_range\":{\"id\":\"1393\",\"type\":\"DataRange1d\"},\"y_scale\":{\"id\":\"1397\",\"type\":\"LinearScale\"}},\"id\":\"1388\",\"subtype\":\"Figure\",\"type\":\"Plot\"},{\"attributes\":{\"active_drag\":\"auto\",\"active_inspect\":\"auto\",\"active_multi\":null,\"active_scroll\":\"auto\",\"active_tap\":\"auto\",\"tools\":[{\"id\":\"1387\",\"type\":\"HoverTool\"},{\"id\":\"1409\",\"type\":\"PanTool\"},{\"id\":\"1410\",\"type\":\"CrosshairTool\"},{\"id\":\"1411\",\"type\":\"WheelZoomTool\"},{\"id\":\"1412\",\"type\":\"ZoomInTool\"},{\"id\":\"1413\",\"type\":\"ZoomOutTool\"},{\"id\":\"1414\",\"type\":\"UndoTool\"},{\"id\":\"1415\",\"type\":\"ResetTool\"}]},\"id\":\"1416\",\"type\":\"Toolbar\"},{\"attributes\":{\"callback\":null,\"data\":{\"FinalObjectiveValue\":{\"__ndarray__\":\"AAAAIKw4wT8AAADgz0XBPwAAAIBtb8E/AAAAYLhzwT8AAADgkJvBPwAAAGDPnsE/AAAAgDLGwT8AAACAguDBPwAAAECr6ME/\",\"dtype\":\"float64\",\"shape\":[9]},\"TrainingElapsedTimeSeconds\":{\"__ndarray__\":\"AAAAAABAUkAAAAAAAABQQAAAAAAAAE9AAAAAAAAAUEAAAAAAAEBQQAAAAAAAAEhAAAAAAAAAT0AAAAAAAIBFQAAAAAAAgE5A\",\"dtype\":\"float64\",\"shape\":[9]},\"TrainingEndTime\":{\"__ndarray__\":\"AICYOyiKd0IAAHoMKIp3QgCAjD0oindCAAC9aSiKd0IAgN1uKIp3QgAAATUoindCAIBNCSiKd0IAAMNoKIp3QgAADwkoindC\",\"dtype\":\"float64\",\"shape\":[9]},\"TrainingJobName\":[\"TC58-SW010-WC006-210405-1444-005-f9925ce7\",\"TC58-SW010-WC006-210405-1444-003-ee48a7e9\",\"TC58-SW010-WC006-210405-1444-006-698d3951\",\"TC58-SW010-WC006-210405-1444-007-7aff253f\",\"TC58-SW010-WC006-210405-1444-008-c20c6a15\",\"TC58-SW010-WC006-210405-1444-004-2c699c37\",\"TC58-SW010-WC006-210405-1444-001-b7524cf3\",\"TC58-SW010-WC006-210405-1444-009-8e99177b\",\"TC58-SW010-WC006-210405-1444-002-9d602c33\"],\"TrainingJobStatus\":[\"Completed\",\"Completed\",\"Completed\",\"Completed\",\"Completed\",\"Completed\",\"Completed\",\"Completed\",\"Completed\"],\"TrainingStartTime\":{\"__ndarray__\":\"AADGKSiKd0IAANr8J4p3QgCAaS4oindCAAAdWiiKd0IAAP9eKIp3QgAASSkoindCAIAq+ieKd0IAgENeKIp3QgCAKvonindC\",\"dtype\":\"float64\",\"shape\":[9]},\"index\":[4,6,3,2,1,5,8,0,7],\"num_round\":{\"__ndarray__\":\"AAAAAAAogEAAAAAAAFCAQAAAAAAAIHZAAAAAAACgf0AAAAAAADB+QAAAAAAAgHlAAAAAAABggkAAAAAAAABiQAAAAAAA0IlA\",\"dtype\":\"float64\",\"shape\":[9]}},\"selected\":{\"id\":\"1478\",\"type\":\"Selection\"},\"selection_policy\":{\"id\":\"1477\",\"type\":\"UnionRenderers\"}},\"id\":\"1425\",\"type\":\"ColumnDataSource\"},{\"attributes\":{\"callback\":null},\"id\":\"1391\",\"type\":\"DataRange1d\"},{\"attributes\":{},\"id\":\"1409\",\"type\":\"PanTool\"},{\"attributes\":{\"text\":\"Objective vs num_round\"},\"id\":\"1389\",\"type\":\"Title\"},{\"attributes\":{\"data_source\":{\"id\":\"1425\",\"type\":\"ColumnDataSource\"},\"glyph\":{\"id\":\"1427\",\"type\":\"Circle\"},\"hover_glyph\":null,\"muted_glyph\":null,\"nonselection_glyph\":{\"id\":\"1428\",\"type\":\"Circle\"},\"selection_glyph\":null,\"view\":{\"id\":\"1430\",\"type\":\"CDSView\"}},\"id\":\"1429\",\"type\":\"GlyphRenderer\"},{\"attributes\":{},\"id\":\"1410\",\"type\":\"CrosshairTool\"},{\"attributes\":{},\"id\":\"1400\",\"type\":\"BasicTicker\"},{\"attributes\":{},\"id\":\"1411\",\"type\":\"WheelZoomTool\"},{\"attributes\":{},\"id\":\"1395\",\"type\":\"LinearScale\"},{\"attributes\":{},\"id\":\"1412\",\"type\":\"ZoomInTool\"},{\"attributes\":{\"callback\":null},\"id\":\"1393\",\"type\":\"DataRange1d\"},{\"attributes\":{},\"id\":\"1475\",\"type\":\"BasicTickFormatter\"},{\"attributes\":{\"fill_alpha\":{\"value\":0.1},\"fill_color\":{\"value\":\"#1f77b4\"},\"line_alpha\":{\"value\":0.1},\"line_color\":{\"value\":\"#1f77b4\"},\"x\":{\"field\":\"num_round\"},\"y\":{\"field\":\"FinalObjectiveValue\"}},\"id\":\"1428\",\"type\":\"Circle\"}],\"root_ids\":[\"1431\"]},\"title\":\"Bokeh Application\",\"version\":\"1.4.0\"}};\n",
       "  var render_items = [{\"docid\":\"c8b332a0-46c2-484c-8616-981e15d306ba\",\"roots\":{\"1431\":\"e276403a-03c7-4ed4-aa1d-1169cb972c41\"}}];\n",
       "  root.Bokeh.embed.embed_items_notebook(docs_json, render_items);\n",
       "\n",
       "  }\n",
       "  if (root.Bokeh !== undefined) {\n",
       "    embed_document(root);\n",
       "  } else {\n",
       "    var attempts = 0;\n",
       "    var timer = setInterval(function(root) {\n",
       "      if (root.Bokeh !== undefined) {\n",
       "        clearInterval(timer);\n",
       "        embed_document(root);\n",
       "      } else {\n",
       "        attempts++;\n",
       "        if (attempts > 100) {\n",
       "          clearInterval(timer);\n",
       "          console.log(\"Bokeh: ERROR: Unable to run BokehJS code because BokehJS library is missing\");\n",
       "        }\n",
       "      }\n",
       "    }, 10, root)\n",
       "  }\n",
       "})(window);"
      ],
      "application/vnd.bokehjs_exec.v0+json": ""
     },
     "metadata": {
      "application/vnd.bokehjs_exec.v0+json": {
       "id": "1431"
      }
     },
     "output_type": "display_data"
    }
   ],
   "source": [
    "ranges = tuner.tuning_ranges\n",
    "figures = []\n",
    "for hp_name, hp_range in ranges.items():\n",
    "    categorical_args = {}\n",
    "    if hp_range.get('Values'):\n",
    "        # This is marked as categorical.  Check if all options are actually numbers.\n",
    "        def is_num(x):\n",
    "            try:\n",
    "                float(x)\n",
    "                return 1\n",
    "            except:\n",
    "                return 0           \n",
    "        vals = hp_range['Values']\n",
    "        if sum([is_num(x) for x in vals]) == len(vals):\n",
    "            # Bokeh has issues plotting a \"categorical\" range that's actually numeric, so plot as numeric\n",
    "            print(\"Hyperparameter %s is tuned as categorical, but all values are numeric\" % hp_name)\n",
    "        else:\n",
    "            # Set up extra options for plotting categoricals.  A bit tricky when they're actually numbers.\n",
    "            categorical_args['x_range'] = vals\n",
    "\n",
    "    # Now plot it\n",
    "    p = figure(plot_width=500, plot_height=500, \n",
    "               title=\"Objective vs %s\" % hp_name,\n",
    "               tools=hover.tools(),\n",
    "               x_axis_label=hp_name, y_axis_label=objective_name,\n",
    "               **categorical_args)\n",
    "    p.circle(source=df, x=hp_name, y='FinalObjectiveValue')\n",
    "    figures.append(p)\n",
    "show(bokeh.layouts.Column(*figures))"
   ]
  },
  {
   "cell_type": "code",
   "execution_count": 46,
   "metadata": {},
   "outputs": [
    {
     "name": "stdout",
     "output_type": "stream",
     "text": [
      "请注意，这里需要手动操作！！！\n",
      "请手动部署最优的模型为 Endpoint，分为两个步骤：\n",
      "步骤1：Create Model，name = prefix_tuningjobname\n",
      "步骤2：Create endpoint，name = prefix_tuningjobname\n",
      "\n",
      "prefix_tuningjobname = TC58-SW010-WC006-20210405151047\n"
     ]
    }
   ],
   "source": [
    "#prefix_tuningjobname\n",
    "print('请注意，这里需要手动操作！！！')\n",
    "print('请手动部署最优的模型为 Endpoint，分为两个步骤：')\n",
    "print('步骤1：Create Model，name = prefix_tuningjobname')\n",
    "print('步骤2：Create endpoint，name = prefix_tuningjobname\\n')\n",
    "print('prefix_tuningjobname = ' + prefix_tuningjobname)\n"
   ]
  },
  {
   "cell_type": "markdown",
   "metadata": {},
   "source": [
    "## 给上述操作提个醒：请手动部署最优的模型为 Endpoint，\n",
    "* 步骤1：Create Model，name = prefix_tuningjobname\n",
    "* 步骤2：Create endpoint，name = prefix_tuningjobname\n",
    "![image-20210405230902960](https://raw.githubusercontent.com/liangyimingcom/storage/master/uPic/image-20210405230902960.png)\n",
    "![image-20210405231402322](https://raw.githubusercontent.com/liangyimingcom/storage/master/uPic/image-20210405231402322.png)\n",
    "![image-20210405231448328](https://raw.githubusercontent.com/liangyimingcom/storage/master/uPic/image-20210405231448328.png)"
   ]
  },
  {
   "cell_type": "markdown",
   "metadata": {},
   "source": [
    "### 输入 创建成功创建后的推理EC2，即endpoint name\n"
   ]
  },
  {
   "cell_type": "code",
   "execution_count": 48,
   "metadata": {},
   "outputs": [],
   "source": [
    "### 输入 创建成功的endpoint name\n",
    "endpoint_name_input = 'TC58-SW010-WC006-20210405151047' "
   ]
  },
  {
   "cell_type": "code",
   "execution_count": 53,
   "metadata": {},
   "outputs": [
    {
     "name": "stdout",
     "output_type": "stream",
     "text": [
      "S3存储桶名称= xgb-10000871-part_ac.csv-TC58-SW010-WC006-20210405135629\n",
      "S3路径名称= TC58-SW010-WC006-20210405151047\n"
     ]
    }
   ],
   "source": [
    "import numpy as np                                # For matrix operations and numerical processing\n",
    "import pandas as pd                               # For munging tabular data\n",
    "import os \n",
    "from datetime import datetime\n",
    "from time import gmtime, strftime, sleep\n",
    "import boto3\n",
    "import sagemaker\n",
    "from sagemaker import get_execution_role\n",
    "#from sagemaker.tuner import IntegerParameter, CategoricalParameter, ContinuousParameter, HyperparameterTuner\n",
    "from time import sleep\n",
    "import time\n",
    "\n",
    "region = boto3.Session().region_name    \n",
    "smclient = boto3.Session().client('sagemaker')\n",
    "\n",
    "role = sagemaker.get_execution_role()\n",
    "bucket = sagemaker.Session().default_bucket()\n",
    "\n",
    "s3_wholedata_path = s3_data='s3://{}/{}/wholedata/whole_data.csv'.format(bucket, prefix)\n",
    "\n",
    "endpoint_name = endpoint_name_input #提醒，这里输入\n",
    "\n",
    "#!pip install s3fs -U ## 如果报错请安装SDK\n",
    "role = get_execution_role()\n",
    "model_data = pd.read_csv(s3_wholedata_path)\n",
    "#model_data.head(3) #for testing\n",
    "#model_data.info() #for testing\n",
    "#prefix = 'xgb-10000871.csv-TC58-SW010-WC008-20210111073547'\n",
    "print('S3存储桶名称= '+prefix)\n",
    "print('S3路径名称= '+endpoint_name)"
   ]
  },
  {
   "cell_type": "markdown",
   "metadata": {},
   "source": [
    "### 模型评估 与 模型推理（预测效果展示）\n",
    "现在我们要使用上图中的部署好的endpoint来做推理。"
   ]
  },
  {
   "cell_type": "code",
   "execution_count": 57,
   "metadata": {},
   "outputs": [],
   "source": [
    "#预测 1：准备sagemaker endpoint\n",
    "xgb_predictor = sagemaker.predictor.RealTimePredictor(endpoint=endpoint_name)\n",
    "\n",
    "#from sagemaker.predictor import csv_serializer\n",
    "from sagemaker.predictor import csv_serializer, json_deserializer\n",
    "xgb_predictor.content_type = 'text/csv'\n",
    "xgb_predictor.serializer = csv_serializer\n",
    "xgb_predictor.deserializer = None\n",
    "\n",
    "# inference预测处理：传入modeldata数据和 sagemaker inference handle，获得预测结果\n",
    "def sagemaker_predict(data, xgb_predictor, rows=100):\n",
    "    split_array = np.array_split(data, int(data.shape[0] / float(rows) + 1))    \n",
    "    predictions = ''\n",
    "    for array in split_array:\n",
    "        split_result = xgb_predictor.predict(data=array).decode('utf-8')\n",
    "        #print(split_result)\n",
    "        split_result = str.strip(split_result, '[]') # 去掉多余的前后[]符号\n",
    "        #split_result=split_result.replace(' ', '')\n",
    "        #print('res='+split_result)\n",
    "             \n",
    "        predictions = ','.join([predictions, split_result])\n",
    "            \n",
    "    #print(predictions)\n",
    "    #return np.fromstring(predictions[1:], sep=',', dtype=np.float64) \n",
    "    return np.fromstring(predictions[1:], sep=',') \n",
    "\n",
    "#预测 2：预测并获得预测结果\n",
    "model_data_to_numpy = model_data.to_numpy()[:, 1:] #转换所有的行，从第一列开始（忽略0列）\n",
    "\n",
    "#调用函数\n",
    "predictions = sagemaker_predict(model_data_to_numpy,xgb_predictor, rows=100)\n",
    "#print('predictions=')\n",
    "#print(predictions)\n",
    "#print('predictions round=')\n",
    "#print(np.round(predictions))\n",
    "#print('\\n')\n",
    "#print('expect round=')\n",
    "#print(model_data.to_numpy()[:, 0:1])"
   ]
  },
  {
   "cell_type": "markdown",
   "metadata": {},
   "source": [
    "### 检测 模型推理 效果\n",
    "\n",
    "检测 预测效果，我们使用之前放入S3里面的完整数据集作为检测 模型推理 效果\n"
   ]
  },
  {
   "cell_type": "code",
   "execution_count": 52,
   "metadata": {},
   "outputs": [
    {
     "name": "stdout",
     "output_type": "stream",
     "text": [
      "model_data: 1=246, 0=2264 / \n",
      "predictions Result: 1=245, 0=2265\n"
     ]
    },
    {
     "data": {
      "text/html": [
       "<div>\n",
       "<style scoped>\n",
       "    .dataframe tbody tr th:only-of-type {\n",
       "        vertical-align: middle;\n",
       "    }\n",
       "\n",
       "    .dataframe tbody tr th {\n",
       "        vertical-align: top;\n",
       "    }\n",
       "\n",
       "    .dataframe thead th {\n",
       "        text-align: right;\n",
       "    }\n",
       "</style>\n",
       "<table border=\"1\" class=\"dataframe\">\n",
       "  <thead>\n",
       "    <tr style=\"text-align: right;\">\n",
       "      <th>predictions_data</th>\n",
       "      <th>0.0</th>\n",
       "      <th>1.0</th>\n",
       "    </tr>\n",
       "    <tr>\n",
       "      <th>model_data</th>\n",
       "      <th></th>\n",
       "      <th></th>\n",
       "    </tr>\n",
       "  </thead>\n",
       "  <tbody>\n",
       "    <tr>\n",
       "      <th>0.0</th>\n",
       "      <td>2237</td>\n",
       "      <td>27</td>\n",
       "    </tr>\n",
       "    <tr>\n",
       "      <th>1.0</th>\n",
       "      <td>28</td>\n",
       "      <td>218</td>\n",
       "    </tr>\n",
       "  </tbody>\n",
       "</table>\n",
       "</div>"
      ],
      "text/plain": [
       "predictions_data   0.0  1.0\n",
       "model_data                 \n",
       "0.0               2237  27 \n",
       "1.0               28    218"
      ]
     },
     "metadata": {},
     "output_type": "display_data"
    },
    {
     "data": {
      "text/plain": [
       "<Figure size 432x288 with 0 Axes>"
      ]
     },
     "metadata": {},
     "output_type": "display_data"
    },
    {
     "data": {
      "image/png": "[encoded data removed]",
      "text/plain": [
       "<Figure size 360x360 with 1 Axes>"
      ]
     },
     "metadata": {
      "needs_background": "light"
     },
     "output_type": "display_data"
    },
    {
     "name": "stdout",
     "output_type": "stream",
     "text": [
      "sklearn AUC: 0.981115695653423\n",
      "\n",
      "xgb_predictor.endpoint = TC58-SW010-WC006-20210405151047\n",
      "\n",
      "s3_wholedata_path = s3://sagemaker-cn-northwest-1-337575217701/xgb-10000871-part_ac.csv-TC58-SW010-WC006-20210405135629/wholedata/whole_data.csv\n"
     ]
    },
    {
     "data": {
      "text/plain": [
       "(None,)"
      ]
     },
     "execution_count": 52,
     "metadata": {},
     "output_type": "execute_result"
    }
   ],
   "source": [
    "import numpy as np\n",
    "import pandas as pd\n",
    "import matplotlib.pyplot as plt\n",
    "\n",
    "from numpy import asarray\n",
    "from pandas import read_csv\n",
    "from pandas import DataFrame\n",
    "from pandas import concat\n",
    "#from xgboost import XGBRegressor\n",
    "%matplotlib inline\n",
    "from matplotlib import pyplot\n",
    "from sklearn.metrics import mean_absolute_error\n",
    "\n",
    "y_labels = model_data.iloc[:, 0]\n",
    "y_scores = predictions\n",
    "\n",
    "#结果 1：测试数据集结果 与 预测结果 的数量对比\n",
    "print('model_data: 1='+ str((y_labels == 1).sum()) + ', 0='+str((y_labels == 0).sum()) +' / '),\n",
    "print('predictions Result: 1='+ str((np.round(y_scores) == 1).sum()) + ', 0='+str((np.round(y_scores) == 0).sum()))\n",
    "\n",
    "#结果 2：交叉表，说明 测试数据集结果 与 预测结果 的正确情况对比\n",
    "display(pd.crosstab(index=model_data.iloc[:, 0], columns=np.round(predictions), \n",
    "            rownames=['model_data'], colnames=['predictions_data'],margins=False))\n",
    "#print('\\n')\n",
    "\n",
    "#结果 4：ROC图，越大越好，无限接近与1\n",
    "from sklearn.metrics import roc_curve, auc                     #导入库\n",
    "fpr, tpr, thresholds  =  roc_curve(y_labels, y_scores)  #计算真正率和假正率\n",
    "roc_auc = auc(fpr,tpr)                                         #计算auc的值\n",
    "plt.figure()\n",
    "lw = 3\n",
    "plt.figure(figsize=(5,5))\n",
    "plt.plot(fpr, tpr, color='darkorange',lw=lw, label='ROC curve (area = %0.2f)' % roc_auc) #假正率为横坐标，真正率为纵坐标做曲线\n",
    "plt.plot([0, 1], [0, 1], color='navy', lw=lw, linestyle='--')\n",
    "plt.xlim([0.0, 1.0])\n",
    "plt.ylim([0.0, 1.05])\n",
    "plt.xlabel('False Positive Rate')\n",
    "plt.ylabel('True Positive Rate')\n",
    "plt.title('Receiver operating characteristic example')\n",
    "plt.legend(loc=\"lower right\")\n",
    "plt.show()\n",
    "\n",
    "#结果 3：AUC值，越大越好，无限接近与1\n",
    "import numpy as np\n",
    "from sklearn.metrics import roc_auc_score\n",
    "##y_labels=[0. 1. 0. 0. 1. 1. 1. 1. 1. 1. 0. 1. 1. 1. 0. 0. 1. 0. 1. 0. 0. 0. 1. 1.\n",
    "##y_scores=[4.92438182e-01 1.74370125e-01 8.58997216e-01 1.30175965e-01 \n",
    "# 调用sklearn中的方法计算AUC，与后面自己写的方法作对比\n",
    "print('sklearn AUC:', roc_auc_score(y_labels, y_scores))\n",
    "#打印全局变量值\n",
    "print('\\nxgb_predictor.endpoint = ' + str(xgb_predictor.endpoint)),\n",
    "print('\\ns3_wholedata_path = '+ str(s3_wholedata_path)),"
   ]
  },
  {
   "cell_type": "code",
   "execution_count": 95,
   "metadata": {},
   "outputs": [
    {
     "data": {
      "image/png": "[encoded data removed]",
      "text/plain": [
       "<Figure size 432x288 with 1 Axes>"
      ]
     },
     "metadata": {
      "needs_background": "light"
     },
     "output_type": "display_data"
    },
    {
     "data": {
      "text/html": [
       "<div>\n",
       "<style scoped>\n",
       "    .dataframe tbody tr th:only-of-type {\n",
       "        vertical-align: middle;\n",
       "    }\n",
       "\n",
       "    .dataframe tbody tr th {\n",
       "        vertical-align: top;\n",
       "    }\n",
       "\n",
       "    .dataframe thead th {\n",
       "        text-align: right;\n",
       "    }\n",
       "</style>\n",
       "<table border=\"1\" class=\"dataframe\">\n",
       "  <thead>\n",
       "    <tr style=\"text-align: right;\">\n",
       "      <th>predictions_data</th>\n",
       "      <th>0</th>\n",
       "      <th>1</th>\n",
       "    </tr>\n",
       "    <tr>\n",
       "      <th>model_data</th>\n",
       "      <th></th>\n",
       "      <th></th>\n",
       "    </tr>\n",
       "  </thead>\n",
       "  <tbody>\n",
       "    <tr>\n",
       "      <th>0.0</th>\n",
       "      <td>663</td>\n",
       "      <td>2</td>\n",
       "    </tr>\n",
       "    <tr>\n",
       "      <th>1.0</th>\n",
       "      <td>6</td>\n",
       "      <td>70</td>\n",
       "    </tr>\n",
       "  </tbody>\n",
       "</table>\n",
       "</div>"
      ],
      "text/plain": [
       "predictions_data    0   1\n",
       "model_data               \n",
       "0.0               663  2 \n",
       "1.0               6    70"
      ]
     },
     "execution_count": 95,
     "metadata": {},
     "output_type": "execute_result"
    }
   ],
   "source": [
    "#结果 5：分布柱状图；用于分析和优化结果（round函数）；\n",
    "plt.hist(predictions, bins=10, range=(0, 1))\n",
    "plt.show()\n",
    "\n",
    "#用于分析和优化结果（round函数）；\n",
    "round_predictions=0.45\n",
    "pd.crosstab(index=model_data.iloc[:, 0], columns=np.where(predictions > round_predictions, 1, 0), \n",
    "            rownames=['model_data'], colnames=['predictions_data'],margins=False)\n"
   ]
  },
  {
   "cell_type": "markdown",
   "metadata": {},
   "source": [
    "## 结束"
   ]
  },
  {
   "cell_type": "code",
   "execution_count": null,
   "metadata": {},
   "outputs": [],
   "source": []
  }
 ],
 "metadata": {
  "instance_type": "ml.m5.4xlarge",
  "kernelspec": {
   "display_name": "Python 3 (arn:aws:sagemaker:cn-northwest-1:390780980154:image/datascience-1.0)",
   "language": "python",
   "name": "python3__SAGEMAKER_INTERNAL__arn:aws:sagemaker:cn-northwest-1:390780980154:image/datascience-1.0"
  },
  "language_info": {
   "codemirror_mode": {
    "name": "ipython",
    "version": 3
   },
   "file_extension": ".py",
   "mimetype": "text/x-python",
   "name": "python",
   "nbconvert_exporter": "python",
   "pygments_lexer": "ipython3",
   "version": "3.7.6"
  }
 },
 "nbformat": 4,
 "nbformat_minor": 4
}
